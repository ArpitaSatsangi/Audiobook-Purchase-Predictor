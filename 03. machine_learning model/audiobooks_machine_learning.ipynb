{
  "nbformat": 4,
  "nbformat_minor": 0,
  "metadata": {
    "colab": {
      "provenance": []
    },
    "kernelspec": {
      "name": "python3",
      "display_name": "Python 3"
    },
    "language_info": {
      "name": "python"
    }
  },
  "cells": [
    {
      "cell_type": "code",
      "execution_count": 2,
      "metadata": {
        "id": "qSLNI0uet1o6"
      },
      "outputs": [],
      "source": [
        "import numpy as np\n",
        "import tensorflow as tf"
      ]
    },
    {
      "cell_type": "markdown",
      "source": [
        "# Data"
      ],
      "metadata": {
        "id": "vogG4t6GvE0K"
      }
    },
    {
      "cell_type": "code",
      "source": [
        "npz = np.load('Audiobooks_data_train.npz')\n",
        "train_inputs = npz['inputs'].astype(np.float)\n",
        "train_targets = npz['targets'].astype(np.int)\n",
        "\n",
        "npz = np.load('Audiobooks_data_validation.npz')\n",
        "validation_inputs = npz['inputs'].astype(np.float)\n",
        "validation_targets = npz['targets'].astype(np.int)\n",
        "\n",
        "npz = np.load('Audiobooks_data_test.npz')\n",
        "test_inputs = npz['inputs'].astype(np.float)\n",
        "test_targets = npz['targets'].astype(np.int)"
      ],
      "metadata": {
        "colab": {
          "base_uri": "https://localhost:8080/"
        },
        "id": "xctbU_Lrt7uL",
        "outputId": "21178b65-370f-4ba3-a794-d3074b2cebee"
      },
      "execution_count": 4,
      "outputs": [
        {
          "output_type": "stream",
          "name": "stderr",
          "text": [
            "<ipython-input-4-7b0bfd14751b>:2: DeprecationWarning: `np.float` is a deprecated alias for the builtin `float`. To silence this warning, use `float` by itself. Doing this will not modify any behavior and is safe. If you specifically wanted the numpy scalar type, use `np.float64` here.\n",
            "Deprecated in NumPy 1.20; for more details and guidance: https://numpy.org/devdocs/release/1.20.0-notes.html#deprecations\n",
            "  train_inputs = npz['inputs'].astype(np.float)\n",
            "<ipython-input-4-7b0bfd14751b>:3: DeprecationWarning: `np.int` is a deprecated alias for the builtin `int`. To silence this warning, use `int` by itself. Doing this will not modify any behavior and is safe. When replacing `np.int`, you may wish to use e.g. `np.int64` or `np.int32` to specify the precision. If you wish to review your current use, check the release note link for additional information.\n",
            "Deprecated in NumPy 1.20; for more details and guidance: https://numpy.org/devdocs/release/1.20.0-notes.html#deprecations\n",
            "  train_targets = npz['targets'].astype(np.int)\n",
            "<ipython-input-4-7b0bfd14751b>:6: DeprecationWarning: `np.float` is a deprecated alias for the builtin `float`. To silence this warning, use `float` by itself. Doing this will not modify any behavior and is safe. If you specifically wanted the numpy scalar type, use `np.float64` here.\n",
            "Deprecated in NumPy 1.20; for more details and guidance: https://numpy.org/devdocs/release/1.20.0-notes.html#deprecations\n",
            "  validation_inputs = npz['inputs'].astype(np.float)\n",
            "<ipython-input-4-7b0bfd14751b>:7: DeprecationWarning: `np.int` is a deprecated alias for the builtin `int`. To silence this warning, use `int` by itself. Doing this will not modify any behavior and is safe. When replacing `np.int`, you may wish to use e.g. `np.int64` or `np.int32` to specify the precision. If you wish to review your current use, check the release note link for additional information.\n",
            "Deprecated in NumPy 1.20; for more details and guidance: https://numpy.org/devdocs/release/1.20.0-notes.html#deprecations\n",
            "  validation_targets = npz['targets'].astype(np.int)\n",
            "<ipython-input-4-7b0bfd14751b>:10: DeprecationWarning: `np.float` is a deprecated alias for the builtin `float`. To silence this warning, use `float` by itself. Doing this will not modify any behavior and is safe. If you specifically wanted the numpy scalar type, use `np.float64` here.\n",
            "Deprecated in NumPy 1.20; for more details and guidance: https://numpy.org/devdocs/release/1.20.0-notes.html#deprecations\n",
            "  test_inputs = npz['inputs'].astype(np.float)\n",
            "<ipython-input-4-7b0bfd14751b>:11: DeprecationWarning: `np.int` is a deprecated alias for the builtin `int`. To silence this warning, use `int` by itself. Doing this will not modify any behavior and is safe. When replacing `np.int`, you may wish to use e.g. `np.int64` or `np.int32` to specify the precision. If you wish to review your current use, check the release note link for additional information.\n",
            "Deprecated in NumPy 1.20; for more details and guidance: https://numpy.org/devdocs/release/1.20.0-notes.html#deprecations\n",
            "  test_targets = npz['targets'].astype(np.int)\n"
          ]
        }
      ]
    },
    {
      "cell_type": "markdown",
      "source": [
        "# Model"
      ],
      "metadata": {
        "id": "EjGfsZQ2vHBz"
      }
    },
    {
      "cell_type": "code",
      "source": [
        "input_size = 10\n",
        "output_size = 2\n",
        "hidden_layer_size = 50 # Using same hidden layer size for both hidden layers.\n",
        "\n",
        "model = tf.keras.Sequential([\n",
        "\n",
        "                             # tf.keras.layers.Dense is basically implementing: output = activation(dot(input, weight) + bias)\n",
        "                             tf.keras.layers.Dense(hidden_layer_size, activation = 'relu'), # 1st hidden layer\n",
        "                             tf.keras.layers.Dense(hidden_layer_size, activation = 'relu'), # 2nd hidden layer\n",
        "\n",
        "                             # the final layer is no different, we just make sure to activate it with softmax\n",
        "                             tf.keras.layers.Dense(output_size, activation = 'softmax') # output layer\n",
        "])\n",
        "\n",
        "model.compile(optimizer='adam', loss='sparse_categorical_crossentropy', metrics=['accuracy'])\n",
        "\n",
        "batch_size = 100\n",
        "\n",
        "max_epochs = 100\n",
        "\n",
        "early_stopping = tf.keras.callbacks.EarlyStopping(patience=2)\n",
        "\n",
        "model.fit(train_inputs,\n",
        "          train_targets,\n",
        "          batch_size = batch_size,\n",
        "          epochs = max_epochs,\n",
        "          callbacks=[early_stopping],\n",
        "          validation_data = (validation_inputs, validation_targets),\n",
        "          verbose = 2\n",
        "         )"
      ],
      "metadata": {
        "id": "2wxGbcQ7uMwx",
        "colab": {
          "base_uri": "https://localhost:8080/"
        },
        "outputId": "762a8eef-7e36-4398-e9dc-824e8b1333b7"
      },
      "execution_count": 5,
      "outputs": [
        {
          "output_type": "stream",
          "name": "stdout",
          "text": [
            "Epoch 1/100\n",
            "36/36 - 1s - loss: 0.6220 - accuracy: 0.6401 - val_loss: 0.5372 - val_accuracy: 0.7226 - 1s/epoch - 34ms/step\n",
            "Epoch 2/100\n",
            "36/36 - 0s - loss: 0.4908 - accuracy: 0.7505 - val_loss: 0.4623 - val_accuracy: 0.7494 - 114ms/epoch - 3ms/step\n",
            "Epoch 3/100\n",
            "36/36 - 0s - loss: 0.4252 - accuracy: 0.7829 - val_loss: 0.4273 - val_accuracy: 0.7450 - 126ms/epoch - 3ms/step\n",
            "Epoch 4/100\n",
            "36/36 - 0s - loss: 0.3919 - accuracy: 0.7955 - val_loss: 0.4030 - val_accuracy: 0.7785 - 123ms/epoch - 3ms/step\n",
            "Epoch 5/100\n",
            "36/36 - 0s - loss: 0.3741 - accuracy: 0.8080 - val_loss: 0.3934 - val_accuracy: 0.7919 - 121ms/epoch - 3ms/step\n",
            "Epoch 6/100\n",
            "36/36 - 0s - loss: 0.3630 - accuracy: 0.8055 - val_loss: 0.3860 - val_accuracy: 0.7852 - 129ms/epoch - 4ms/step\n",
            "Epoch 7/100\n",
            "36/36 - 0s - loss: 0.3553 - accuracy: 0.8106 - val_loss: 0.3843 - val_accuracy: 0.7808 - 128ms/epoch - 4ms/step\n",
            "Epoch 8/100\n",
            "36/36 - 0s - loss: 0.3494 - accuracy: 0.8128 - val_loss: 0.3765 - val_accuracy: 0.7919 - 110ms/epoch - 3ms/step\n",
            "Epoch 9/100\n",
            "36/36 - 0s - loss: 0.3444 - accuracy: 0.8153 - val_loss: 0.3727 - val_accuracy: 0.8054 - 115ms/epoch - 3ms/step\n",
            "Epoch 10/100\n",
            "36/36 - 0s - loss: 0.3411 - accuracy: 0.8150 - val_loss: 0.3711 - val_accuracy: 0.7987 - 110ms/epoch - 3ms/step\n",
            "Epoch 11/100\n",
            "36/36 - 0s - loss: 0.3359 - accuracy: 0.8175 - val_loss: 0.3679 - val_accuracy: 0.8098 - 104ms/epoch - 3ms/step\n",
            "Epoch 12/100\n",
            "36/36 - 0s - loss: 0.3356 - accuracy: 0.8187 - val_loss: 0.3837 - val_accuracy: 0.7740 - 125ms/epoch - 3ms/step\n",
            "Epoch 13/100\n",
            "36/36 - 0s - loss: 0.3318 - accuracy: 0.8215 - val_loss: 0.3664 - val_accuracy: 0.8054 - 100ms/epoch - 3ms/step\n",
            "Epoch 14/100\n",
            "36/36 - 0s - loss: 0.3294 - accuracy: 0.8220 - val_loss: 0.3739 - val_accuracy: 0.7808 - 124ms/epoch - 3ms/step\n",
            "Epoch 15/100\n",
            "36/36 - 0s - loss: 0.3311 - accuracy: 0.8251 - val_loss: 0.3599 - val_accuracy: 0.8009 - 117ms/epoch - 3ms/step\n",
            "Epoch 16/100\n",
            "36/36 - 0s - loss: 0.3260 - accuracy: 0.8240 - val_loss: 0.3581 - val_accuracy: 0.8076 - 110ms/epoch - 3ms/step\n",
            "Epoch 17/100\n",
            "36/36 - 0s - loss: 0.3265 - accuracy: 0.8209 - val_loss: 0.3629 - val_accuracy: 0.8188 - 109ms/epoch - 3ms/step\n",
            "Epoch 18/100\n",
            "36/36 - 0s - loss: 0.3325 - accuracy: 0.8161 - val_loss: 0.3676 - val_accuracy: 0.7942 - 136ms/epoch - 4ms/step\n"
          ]
        },
        {
          "output_type": "execute_result",
          "data": {
            "text/plain": [
              "<keras.src.callbacks.History at 0x7c482765ae90>"
            ]
          },
          "metadata": {},
          "execution_count": 5
        }
      ]
    },
    {
      "cell_type": "markdown",
      "source": [
        "# Test the model"
      ],
      "metadata": {
        "id": "Tfh26SG9YrYN"
      }
    },
    {
      "cell_type": "code",
      "source": [
        "test_loss, test_accuracy = model.evaluate(test_inputs, test_targets)"
      ],
      "metadata": {
        "colab": {
          "base_uri": "https://localhost:8080/"
        },
        "id": "cbSXrfE6Ypgt",
        "outputId": "3be45f7c-f47c-429b-b757-1673d85594e2"
      },
      "execution_count": 8,
      "outputs": [
        {
          "output_type": "stream",
          "name": "stdout",
          "text": [
            "14/14 [==============================] - 0s 4ms/step - loss: 0.3364 - accuracy: 0.8170\n"
          ]
        }
      ]
    },
    {
      "cell_type": "code",
      "source": [
        "print('Test loss: {0:.2f}. Test accuracy: {1:.2f}%'.format(test_loss, test_accuracy*100.))"
      ],
      "metadata": {
        "colab": {
          "base_uri": "https://localhost:8080/"
        },
        "id": "ohBbgI2XY3t1",
        "outputId": "6118bfb3-df83-454b-fb07-a31ffa50608a"
      },
      "execution_count": 9,
      "outputs": [
        {
          "output_type": "stream",
          "name": "stdout",
          "text": [
            "Test loss: 0.34. Test accuracy: 81.70%\n"
          ]
        }
      ]
    }
  ]
}