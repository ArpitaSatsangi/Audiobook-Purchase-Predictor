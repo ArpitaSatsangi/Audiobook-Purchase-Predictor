{
 "cells": [
  {
   "cell_type": "markdown",
   "id": "d7e0095e",
   "metadata": {},
   "source": [
    "# Extract data from the csv"
   ]
  },
  {
   "cell_type": "code",
   "execution_count": 1,
   "id": "15e2e971",
   "metadata": {},
   "outputs": [],
   "source": [
    "import numpy as np\n",
    "from sklearn import preprocessing\n",
    "\n",
    "raw_csv_data = np.loadtxt('Audiobooks_data.csv', delimiter = ',')\n",
    "unscaled_inputs_all = raw_csv_data[:,1:-1] # It selects all rows and all columns starting from the second column (index 1) up to the second-to-last column. \n",
    "targets_all = raw_csv_data[:,-1] # It selects all rows and only the last column. "
   ]
  },
  {
   "cell_type": "markdown",
   "id": "7982add5",
   "metadata": {},
   "source": [
    "# Balance the dataset"
   ]
  },
  {
   "cell_type": "code",
   "execution_count": 2,
   "id": "068ddca9",
   "metadata": {},
   "outputs": [],
   "source": [
    "num_one_targets = int(np.sum(targets_all)) #2237\n",
    "zero_targets_counter = 0\n",
    "indices_toremove =[]\n",
    "\n",
    "for i in range(targets_all.shape[0]):\n",
    "     if targets_all[i]==0:\n",
    "            zero_targets_counter+=1;\n",
    "            if zero_targets_counter>num_one_targets:\n",
    "                indices_toremove.append(i)\n",
    "                \n",
    "                \n",
    "unscaled_inputs_equal_priors = np.delete(unscaled_inputs_all, indices_toremove, axis=0)\n",
    "targets_equal_priors = np.delete(targets_all, indices_toremove, axis =0)"
   ]
  },
  {
   "cell_type": "markdown",
   "id": "c17ef6d9",
   "metadata": {},
   "source": [
    "# Standardize the inputs"
   ]
  },
  {
   "cell_type": "code",
   "execution_count": 3,
   "id": "eb177b19",
   "metadata": {},
   "outputs": [],
   "source": [
    "scaled_inputs = preprocessing.scale(unscaled_inputs_equal_priors)"
   ]
  },
  {
   "cell_type": "markdown",
   "id": "df1e28c7",
   "metadata": {},
   "source": [
    "# Shuffle the data"
   ]
  },
  {
   "cell_type": "code",
   "execution_count": 4,
   "id": "630574e6",
   "metadata": {},
   "outputs": [],
   "source": [
    "shuffled_indices = np.arange(scaled_inputs.shape[0])\n",
    "np.random.shuffle(shuffled_indices)\n",
    "\n",
    "shuffled_inputs = scaled_inputs[shuffled_indices]\n",
    "shuffled_targets = targets_equal_priors[shuffled_indices]"
   ]
  },
  {
   "cell_type": "markdown",
   "id": "9a1c0587",
   "metadata": {},
   "source": [
    "# Split the dataset into train, validation and test"
   ]
  },
  {
   "cell_type": "code",
   "execution_count": 9,
   "id": "3aa3e916",
   "metadata": {},
   "outputs": [],
   "source": [
    "samples_count = shuffled_inputs.shape[0]\n",
    "\n",
    "train_samples_count = int(0.8*samples_count)\n",
    "validation_samples_count = int(0.1*samples_count)\n",
    "test_saples_count = samples_count - train_samples_count - validation_samples_count\n",
    "\n",
    "train_inputs = shuffled_inputs[:train_samples_count]\n",
    "train_targets = shuffled_targets[:train_samples_count]\n",
    "\n",
    "validation_inputs = shuffled_inputs[train_samples_count:train_samples_count + validation_samples_count]\n",
    "validation_targets = shuffled_targets[train_samples_count:train_samples_count + validation_samples_count]\n",
    "\n",
    "test_inputs = shuffled_inputs[train_samples_count + validation_samples_count :]\n",
    "test_targets = shuffled_targets[train_samples_count + validation_samples_count :]"
   ]
  },
  {
   "cell_type": "markdown",
   "id": "cb5c7e3f",
   "metadata": {},
   "source": [
    "# Save the tree datasets in *.npz"
   ]
  },
  {
   "cell_type": "code",
   "execution_count": 11,
   "id": "7530fd48",
   "metadata": {},
   "outputs": [],
   "source": [
    "np.savez('Audiobooks_data_train', inputs=train_inputs, targets=train_targets )\n",
    "np.savez('Audiobooks_data_validation', inputs=validation_inputs, targets=validation_targets )\n",
    "np.savez('Audiobooks_data_test', inputs=test_inputs, targets=test_targets )"
   ]
  },
  {
   "cell_type": "code",
   "execution_count": null,
   "id": "e3b7c76c",
   "metadata": {},
   "outputs": [],
   "source": []
  }
 ],
 "metadata": {
  "kernelspec": {
   "display_name": "Python 3 (ipykernel)",
   "language": "python",
   "name": "python3"
  },
  "language_info": {
   "codemirror_mode": {
    "name": "ipython",
    "version": 3
   },
   "file_extension": ".py",
   "mimetype": "text/x-python",
   "name": "python",
   "nbconvert_exporter": "python",
   "pygments_lexer": "ipython3",
   "version": "3.11.5"
  }
 },
 "nbformat": 4,
 "nbformat_minor": 5
}
